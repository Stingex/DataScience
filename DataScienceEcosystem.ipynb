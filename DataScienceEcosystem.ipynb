{
 "cells": [
  {
   "cell_type": "markdown",
   "id": "6598bb25",
   "metadata": {},
   "source": [
    "# Data Science Tools and Ecosystem\n"
   ]
  },
  {
   "cell_type": "markdown",
   "id": "a2b8e1ea",
   "metadata": {},
   "source": [
    "In this notebook, Data Science Tools and Ecosystem are summarized."
   ]
  },
  {
   "cell_type": "markdown",
   "id": "87abb097",
   "metadata": {},
   "source": [
    "## Author\n",
    "Marius"
   ]
  },
  {
   "cell_type": "markdown",
   "id": "820e430f",
   "metadata": {},
   "source": [
    "## Objectives:\n",
    "\n",
    "* **List popular languages for Data Science:** This topic provides information about popular programing languages for data science, best choices acording to the field. Most popular languages are python, sql, R and Java.\n",
    "* **Explore core Data Science tools:** We explored tools for vizualization, data processing and handling, code management tools (such as github) and ways to read libraries and guides.\n",
    "* **Get started with Jupyter Notebooks:** Overview of notebooks, most used packages for data science: numpy, pandas, matplotlib. Real time vizualizations and code processing."
   ]
  },
  {
   "cell_type": "markdown",
   "id": "08c55030",
   "metadata": {},
   "source": [
    "Some of the popular languages that Data Scientists use are:\n",
    "* Python\n",
    "* R\n",
    "* Java"
   ]
  },
  {
   "cell_type": "markdown",
   "id": "143916f8",
   "metadata": {},
   "source": [
    "Some of the commonly used libraries used by Data Scientists include:\n",
    "* Pandas\n",
    "* Numpy\n",
    "* Matplotlib"
   ]
  },
  {
   "cell_type": "markdown",
   "id": "9fd423be",
   "metadata": {},
   "source": [
    "| Data Science Tools | |\n",
    "|---|---|\n",
    "| Apache Spark |  |\n",
    "| GitHub | |\n",
    "| Anaconda | |\n"
   ]
  },
  {
   "cell_type": "markdown",
   "id": "36b18686",
   "metadata": {},
   "source": [
    "### Below are a few examples of evaluating arithmetic expressions in Python"
   ]
  },
  {
   "cell_type": "code",
   "execution_count": 1,
   "id": "b285ac5f",
   "metadata": {},
   "outputs": [
    {
     "data": {
      "text/plain": [
       "17"
      ]
     },
     "execution_count": 1,
     "metadata": {},
     "output_type": "execute_result"
    }
   ],
   "source": [
    "(3*4)+5 # This a simple arithmetic expression to mutiply then add integers"
   ]
  },
  {
   "cell_type": "code",
   "execution_count": 5,
   "id": "e01248d7",
   "metadata": {},
   "outputs": [
    {
     "name": "stdout",
     "output_type": "stream",
     "text": [
      "3.33\n"
     ]
    }
   ],
   "source": [
    "minutes = 200\n",
    "hour = 60\n",
    "\n",
    "#This will convert 200 minutes to hours by dividing by 60\n",
    "minutes_to_hours = minutes/hour\n",
    "print(round(minutes_to_hours, 2))\n"
   ]
  }
 ],
 "metadata": {
  "kernelspec": {
   "display_name": "Python 3 (ipykernel)",
   "language": "python",
   "name": "python3"
  },
  "language_info": {
   "codemirror_mode": {
    "name": "ipython",
    "version": 3
   },
   "file_extension": ".py",
   "mimetype": "text/x-python",
   "name": "python",
   "nbconvert_exporter": "python",
   "pygments_lexer": "ipython3",
   "version": "3.11.5"
  }
 },
 "nbformat": 4,
 "nbformat_minor": 5
}
